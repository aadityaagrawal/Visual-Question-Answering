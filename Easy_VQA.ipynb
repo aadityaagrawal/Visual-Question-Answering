{
  "nbformat": 4,
  "nbformat_minor": 0,
  "metadata": {
    "colab": {
      "provenance": [],
      "authorship_tag": "ABX9TyP8HkvpDt4jJLn115i9kcbA"
    },
    "kernelspec": {
      "name": "python3",
      "display_name": "Python 3"
    },
    "language_info": {
      "name": "python"
    },
    "gpuClass": "standard",
    "accelerator": "GPU"
  },
  "cells": [
    {
      "cell_type": "code",
      "execution_count": null,
      "metadata": {
        "colab": {
          "base_uri": "https://localhost:8080/"
        },
        "id": "yT8RleviN7UW",
        "outputId": "39e53b63-1d6d-4ab1-c3e8-615cd9a4080d"
      },
      "outputs": [
        {
          "output_type": "stream",
          "name": "stdout",
          "text": [
            "Looking in indexes: https://pypi.org/simple, https://us-python.pkg.dev/colab-wheels/public/simple/\n",
            "Collecting easy-vqa\n",
            "  Downloading easy_vqa-1.0-py3-none-any.whl (3.2 MB)\n",
            "\u001b[K     |████████████████████████████████| 3.2 MB 24.1 MB/s \n",
            "\u001b[?25hInstalling collected packages: easy-vqa\n",
            "Successfully installed easy-vqa-1.0\n"
          ]
        }
      ],
      "source": [
        "! pip install easy-vqa"
      ]
    },
    {
      "cell_type": "markdown",
      "source": [
        "# **Importing necessary library**"
      ],
      "metadata": {
        "id": "h3c3cW_LORC0"
      }
    },
    {
      "cell_type": "code",
      "source": [
        "import tensorflow as tf\n",
        "from tensorflow.keras import layers\n",
        "import glob\n",
        "import matplotlib.pyplot as plt\n",
        "import numpy as np\n",
        "import os\n",
        "from PIL import Image\n",
        "from tqdm import tqdm\n",
        "from IPython import display\n",
        "from easy_vqa import get_train_questions, get_test_questions, get_answers"
      ],
      "metadata": {
        "id": "cFOCfUH6N_xd"
      },
      "execution_count": null,
      "outputs": []
    },
    {
      "cell_type": "markdown",
      "source": [
        "# **Loading and Preprocessing Data**"
      ],
      "metadata": {
        "id": "971JLyK8O8Jk"
      }
    },
    {
      "cell_type": "code",
      "source": [
        "from easy_vqa import get_train_questions, get_test_questions, get_answers\n",
        "\n",
        "\n",
        "train_qs, train_answers, train_image_ids = get_train_questions()\n",
        "test_qs, test_answers, test_image_ids = get_test_questions()\n",
        "\n",
        "all_answers = get_answers()\n",
        "num_answers = len(all_answers)"
      ],
      "metadata": {
        "id": "KzYbX8aBO3HH"
      },
      "execution_count": null,
      "outputs": []
    },
    {
      "cell_type": "code",
      "source": [
        "from easy_vqa import get_train_image_paths, get_test_image_paths\n",
        "from tensorflow.keras.preprocessing.image import load_img, img_to_array\n",
        "\n",
        "def load_and_proccess_image(image_path):\n",
        "  \n",
        "  im = img_to_array(load_img(image_path))\n",
        "  return im / 255 - 0.5\n",
        "\n",
        "def read_images(paths):\n",
        "  ims = {}\n",
        "  for image_id, image_path in paths.items():\n",
        "    ims[image_id] = load_and_proccess_image(image_path)\n",
        "  return ims\n",
        "\n",
        "train_ims = read_images(get_train_image_paths())\n",
        "test_ims = read_images(get_test_image_paths())"
      ],
      "metadata": {
        "id": "b-dMM37fO3N9"
      },
      "execution_count": null,
      "outputs": []
    },
    {
      "cell_type": "code",
      "source": [
        "from tensorflow.keras.utils import to_categorical\n",
        "\n",
        "\n",
        "train_X_ims = [train_ims[id] for id in train_image_ids]\n",
        "test_X_ims = [test_ims[id] for id in test_image_ids]\n",
        "\n",
        "\n",
        "train_answer_indices = [all_answers.index(a) for a in train_answers]\n",
        "test_answer_indices = [all_answers.index(a) for a in test_answers]\n",
        "train_Y = to_categorical(train_answer_indices)\n",
        "test_Y = to_categorical(test_answer_indices)"
      ],
      "metadata": {
        "id": "kJF42d-OO3Q6"
      },
      "execution_count": null,
      "outputs": []
    },
    {
      "cell_type": "markdown",
      "source": [
        "# **Build Image Model**"
      ],
      "metadata": {
        "id": "f3RXcTY5IxL7"
      }
    },
    {
      "cell_type": "code",
      "source": [
        "from tensorflow.keras.layers import Input, Conv2D, MaxPooling2D, Flatten\n",
        "\n",
        "im_input = Input(shape=(64, 64,3))\n",
        "x1 = Conv2D(8, 3, padding='same')(im_input)\n",
        "x1 = MaxPooling2D()(x1)\n",
        "x1 = Conv2D(16, 3, padding='same')(x1)\n",
        "x1 = MaxPooling2D()(x1)\n",
        "x1 = Flatten()(x1)\n",
        "\n",
        "x1 = Dense(32, activation='tanh')(x1)"
      ],
      "metadata": {
        "id": "4hEC9XYUO3XF"
      },
      "execution_count": null,
      "outputs": []
    },
    {
      "cell_type": "markdown",
      "source": [
        "# **Build Question Model**"
      ],
      "metadata": {
        "id": "qdTvB-U-JK6H"
      }
    },
    {
      "cell_type": "code",
      "source": [
        "from easy_vqa import get_train_questions, get_test_questions\n",
        "from tensorflow.keras.preprocessing.text import Tokenizer\n",
        "\n",
        "\n",
        "train_qs, _, _ = get_train_questions()\n",
        "test_qs, _, _ = get_test_questions()\n",
        "\n",
        "tokenizer = Tokenizer()\n",
        "tokenizer.fit_on_texts(train_qs)\n",
        "\n",
        "train_X_seqs = tokenizer.texts_to_matrix(train_qs)\n",
        "test_X_seqs = tokenizer.texts_to_matrix(test_qs)\n",
        "\n",
        "print(train_X_seqs[0])"
      ],
      "metadata": {
        "colab": {
          "base_uri": "https://localhost:8080/"
        },
        "id": "vVmB_8gsSf7Z",
        "outputId": "fbeb0d47-0dbb-49ed-fc96-735ad82eb073"
      },
      "execution_count": null,
      "outputs": [
        {
          "output_type": "stream",
          "name": "stdout",
          "text": [
            "[0. 1. 1. 1. 0. 0. 0. 0. 1. 0. 0. 0. 0. 0. 0. 0. 0. 0. 0. 0. 0. 0. 0. 0.\n",
            " 0. 1. 0.]\n"
          ]
        }
      ]
    },
    {
      "cell_type": "code",
      "source": [
        "from tf.keras.layers import Input, Dense\n",
        "\n",
        "\n",
        "vocab_size = len(tokenizer.word_index) + 1\n",
        "\n",
        "\n",
        "  \n",
        "q_input = Input(shape=(vocab_size,))\n",
        "x2 = Dense(32, activation='tanh')(q_input)\n",
        "x2 = Dense(32, activation='tanh')(x2)"
      ],
      "metadata": {
        "id": "YzVtSSEtS-ix"
      },
      "execution_count": null,
      "outputs": []
    },
    {
      "cell_type": "code",
      "source": [
        "\"\"\"question = question_model()\n",
        "question.summary()\"\"\""
      ],
      "metadata": {
        "colab": {
          "base_uri": "https://localhost:8080/"
        },
        "id": "a7zwCwLDJ3f5",
        "outputId": "413cd860-df5a-4a93-dff3-805a4dbe8008"
      },
      "execution_count": null,
      "outputs": [
        {
          "output_type": "stream",
          "name": "stdout",
          "text": [
            "Model: \"sequential_1\"\n",
            "_________________________________________________________________\n",
            " Layer (type)                Output Shape              Param #   \n",
            "=================================================================\n",
            " dense_1 (Dense)             (None, 32)                896       \n",
            "                                                                 \n",
            " dense_2 (Dense)             (None, 32)                1056      \n",
            "                                                                 \n",
            "=================================================================\n",
            "Total params: 1,952\n",
            "Trainable params: 1,952\n",
            "Non-trainable params: 0\n",
            "_________________________________________________________________\n"
          ]
        }
      ]
    },
    {
      "cell_type": "markdown",
      "source": [
        "## Element wise multiplication of image and question model"
      ],
      "metadata": {
        "id": "cjIdOELgKMZr"
      }
    },
    {
      "cell_type": "code",
      "source": [
        "from tensorflow.keras.layers import Multiply\n",
        "\n",
        "out = Multiply()([x1, x2])"
      ],
      "metadata": {
        "id": "xYa3HYThTIW6"
      },
      "execution_count": null,
      "outputs": []
    },
    {
      "cell_type": "code",
      "source": [
        "\n",
        "all_answers = get_answers()\n",
        "num_answers = len(all_answers)\n",
        "out = Multiply()([x1, x2]) \n",
        "out = Dense(32, activation='tanh')(out)\n",
        "\n",
        "out = Dense(num_answers, activation='softmax')(out)"
      ],
      "metadata": {
        "id": "7omXYsqJTMpW"
      },
      "execution_count": null,
      "outputs": []
    },
    {
      "cell_type": "code",
      "source": [
        "\n",
        "im_input = x1\n",
        "\n",
        "\n",
        "q_input = x2\n",
        "\n",
        "\n",
        "model = tf.keras.models.Model(inputs=[x1, x2], outputs = out)\n",
        "model.compile(\n",
        "  tf.keras.optimizers.Adam(learning_rate=2e-4), \n",
        "  loss='categorical_crossentropy',\n",
        "  metrics=['accuracy'],\n",
        ")"
      ],
      "metadata": {
        "id": "TG0HnGOZTQWi"
      },
      "execution_count": null,
      "outputs": []
    },
    {
      "cell_type": "code",
      "source": [
        "model.summary()"
      ],
      "metadata": {
        "colab": {
          "base_uri": "https://localhost:8080/"
        },
        "id": "RBDCtVWZNuDc",
        "outputId": "e459bb74-c7a1-44ff-8c3e-3aaae49d15d9"
      },
      "execution_count": null,
      "outputs": [
        {
          "output_type": "stream",
          "name": "stdout",
          "text": [
            "Model: \"model\"\n",
            "__________________________________________________________________________________________________\n",
            " Layer (type)                   Output Shape         Param #     Connected to                     \n",
            "==================================================================================================\n",
            " input_5 (InputLayer)           [(None, 32)]         0           []                               \n",
            "                                                                                                  \n",
            " input_6 (InputLayer)           [(None, 32)]         0           []                               \n",
            "                                                                                                  \n",
            " multiply_4 (Multiply)          (None, 32)           0           ['input_5[0][0]',                \n",
            "                                                                  'input_6[0][0]']                \n",
            "                                                                                                  \n",
            " dense_7 (Dense)                (None, 32)           1056        ['multiply_4[1][0]']             \n",
            "                                                                                                  \n",
            " dense_8 (Dense)                (None, 13)           429         ['dense_7[1][0]']                \n",
            "                                                                                                  \n",
            "==================================================================================================\n",
            "Total params: 1,485\n",
            "Trainable params: 1,485\n",
            "Non-trainable params: 0\n",
            "__________________________________________________________________________________________________\n"
          ]
        }
      ]
    },
    {
      "cell_type": "code",
      "source": [
        "\n",
        "tf.keras.utils.plot_model(model, to_file='model.png', show_shapes=True, show_layer_names=True)"
      ],
      "metadata": {
        "colab": {
          "base_uri": "https://localhost:8080/",
          "height": 422
        },
        "id": "5Sp9pDeLN_0c",
        "outputId": "aa22c49d-2c0b-4a37-fb83-c0eb5073c4b3"
      },
      "execution_count": null,
      "outputs": [
        {
          "output_type": "execute_result",
          "data": {
            "image/png": "[encoded data removed]",
            "text/plain": [
              "<IPython.core.display.Image object>"
            ]
          },
          "metadata": {},
          "execution_count": 23
        }
      ]
    },
    {
      "cell_type": "code",
      "source": [
        "\n",
        "from easy_vqa import get_train_questions, get_test_questions, get_answers\n",
        "\n",
        "train_qs, train_answers, train_image_ids = get_train_questions()\n",
        "test_qs, test_answers, test_image_ids = get_test_questions()\n",
        "\n",
        "all_answers = get_answers()\n",
        "num_answers = len(all_answers)"
      ],
      "metadata": {
        "id": "BD3fbJJLTcGs"
      },
      "execution_count": null,
      "outputs": []
    },
    {
      "cell_type": "code",
      "source": [
        "from easy_vqa import get_train_image_paths, get_test_image_paths\n",
        "from tensorflow.keras.preprocessing.image import load_img, img_to_array\n",
        "\n",
        "def load_and_proccess_image(image_path):\n",
        "  \n",
        "  im = img_to_array(load_img(image_path))\n",
        "  return im / 255 - 0.5\n",
        "\n",
        "def read_images(paths):\n",
        "  ims = {}\n",
        "  for image_id, image_path in paths.items():\n",
        "    ims[image_id] = load_and_proccess_image(image_path)\n",
        "  return ims\n",
        "\n",
        "train_ims = read_images(get_train_image_paths())\n",
        "test_ims = read_images(get_test_image_paths())"
      ],
      "metadata": {
        "id": "qVt7sRAqTmLC"
      },
      "execution_count": null,
      "outputs": []
    },
    {
      "cell_type": "code",
      "source": [
        "from tensorflow.keras.utils import to_categorical\n",
        "\n",
        "train_X_ims = [train_ims[id] for id in train_image_ids]\n",
        "test_X_ims = [test_ims[id] for id in test_image_ids]\n",
        "\n",
        "train_answer_indices = [all_answers.index(a) for a in train_answers]\n",
        "test_answer_indices = [all_answers.index(a) for a in test_answers]\n",
        "train_Y = to_categorical(train_answer_indices)\n",
        "test_Y = to_categorical(test_answer_indices)"
      ],
      "metadata": {
        "id": "K6FJ1kaTTpQI"
      },
      "execution_count": null,
      "outputs": []
    },
    {
      "cell_type": "code",
      "source": [
        "from tensorflow.keras.callbacks import ModelCheckpoint\n",
        "\n",
        "checkpoint = ModelCheckpoint('model.h5', save_best_only=True)"
      ],
      "metadata": {
        "id": "tpwHS-xtTr-s"
      },
      "execution_count": null,
      "outputs": []
    },
    {
      "cell_type": "code",
      "source": [
        "from easy_vqa import get_train_questions, get_test_questions, get_answers\n",
        "\n",
        "\n",
        "train_qs, train_answers, train_image_ids = get_train_questions()\n",
        "test_qs, test_answers, test_image_ids = get_test_questions()\n",
        "all_answers = get_answers()\n",
        "num_answers = len(all_answers)\n",
        "\n",
        "\n",
        "train_image_ids"
      ],
      "metadata": {
        "id": "DVEzLmWyTxMd"
      },
      "execution_count": null,
      "outputs": []
    },
    {
      "cell_type": "code",
      "source": [
        "\n",
        "model.fit(\n",
        "\n",
        "  [train_X_ims, train_X_seqs],\n",
        "  train_Y,\n",
        "  validation_data=([test_X_ims, test_X_seqs], test_Y),\n",
        "  shuffle=True,\n",
        "  epochs=8, \n",
        ")"
      ],
      "metadata": {
        "id": "5iA1MWf0QCXh"
      },
      "execution_count": null,
      "outputs": []
    },
    {
      "cell_type": "code",
      "source": [],
      "metadata": {
        "id": "1h4vgbfK23fC"
      },
      "execution_count": null,
      "outputs": []
    }
  ]
}